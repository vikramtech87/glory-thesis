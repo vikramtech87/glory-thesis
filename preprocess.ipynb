{
 "cells": [
  {
   "cell_type": "code",
   "execution_count": 1,
   "id": "6873da36-5c74-401d-8ab2-c204a8d9f530",
   "metadata": {},
   "outputs": [],
   "source": [
    "import pandas as pd\n",
    "import numpy as np\n",
    "\n",
    "from scipy.stats import chi2_contingency\n",
    "\n",
    "import seaborn as sns\n",
    "import matplotlib.pyplot as plt\n",
    "\n",
    "sns.set_theme()"
   ]
  },
  {
   "cell_type": "markdown",
   "id": "d64b3612-162c-4fc2-8543-e163a2c81714",
   "metadata": {},
   "source": [
    "# Anomalies detected"
   ]
  },
  {
   "cell_type": "markdown",
   "id": "5a7d4d00-5449-4b64-a521-da5fe0d4e99c",
   "metadata": {},
   "source": [
    "Patient ID 101\n",
    "- Biopsy date in 2024 ???"
   ]
  },
  {
   "cell_type": "markdown",
   "id": "b50600cc-a01c-4c0c-9a4b-0dd71b9e5ca1",
   "metadata": {},
   "source": [
    "# Utilities"
   ]
  },
  {
   "cell_type": "code",
   "execution_count": 2,
   "id": "9182bfa3-221a-447a-808f-07f23ac75886",
   "metadata": {},
   "outputs": [],
   "source": [
    "def describe_continuous(series, param, acc=2):\n",
    "    stats = series.describe()\n",
    "    li = stats.tolist()\n",
    "    [n, mean, std, vmin, iqr1, median, iqr2, vmax] = [round(v, acc) for v in li]\n",
    "    print(f'**{param}**')\n",
    "    print(f'Mean \\u00B1 SD: {mean} \\u00B1 {std}')\n",
    "    print(f'Mean \\u00B1 2SD: {mean} \\u00B1 {2*std}')\n",
    "    print(f'Median [IQR]: {median} [{iqr1}, {iqr2}]')\n",
    "    print(f'Range: {vmin} to {vmax}')\n",
    "\n",
    "def describe_categorical(series, label_dict, acc=1):\n",
    "    vc = series.value_counts()\n",
    "    indices = vc.sort_index().index.tolist()\n",
    "    n = series.notna().sum()\n",
    "\n",
    "    num = {}\n",
    "    percentages = {}\n",
    "\n",
    "    for ix in indices:\n",
    "        lbl = label_dict[ix]\n",
    "        num[lbl] = vc[ix]\n",
    "        percentages[lbl] = round(float(vc[ix].item()) * 100 / float(n), acc)\n",
    "\n",
    "    n_ser = pd.Series(num)\n",
    "    p_ser = pd.Series(percentages)\n",
    "\n",
    "    df = pd.DataFrame(data = {\"n\": n_ser, \"%\": p_ser})\n",
    "\n",
    "    return df\n",
    "\n",
    "def chi_square(series1, series2):\n",
    "    ct = pd.crosstab(series1, series2)\n",
    "    stat, p, dof, expected = chi2_contingency(ct)\n",
    "\n",
    "    less_than_five = (expected < 5).sum().item()\n",
    "\n",
    "    return {\n",
    "        \"stat\": round(stat.item(), 4), \n",
    "        \"p\": round(p.item(), 4), \n",
    "        \"cells_less_than_5\": less_than_five\n",
    "    }\n"
   ]
  },
  {
   "cell_type": "markdown",
   "id": "0f2bc996-47e8-4f06-b1f2-879912d2c120",
   "metadata": {},
   "source": [
    "# Dataset properties"
   ]
  },
  {
   "cell_type": "code",
   "execution_count": 3,
   "id": "8da8b4e7-6a7e-4708-8423-be119f6c0ffe",
   "metadata": {},
   "outputs": [
    {
     "data": {
      "text/html": [
       "<div>\n",
       "<style scoped>\n",
       "    .dataframe tbody tr th:only-of-type {\n",
       "        vertical-align: middle;\n",
       "    }\n",
       "\n",
       "    .dataframe tbody tr th {\n",
       "        vertical-align: top;\n",
       "    }\n",
       "\n",
       "    .dataframe thead th {\n",
       "        text-align: right;\n",
       "    }\n",
       "</style>\n",
       "<table border=\"1\" class=\"dataframe\">\n",
       "  <thead>\n",
       "    <tr style=\"text-align: right;\">\n",
       "      <th></th>\n",
       "      <th>patient</th>\n",
       "      <th>name</th>\n",
       "      <th>age</th>\n",
       "      <th>gender</th>\n",
       "      <th>hospital</th>\n",
       "      <th>biopsy</th>\n",
       "      <th>date</th>\n",
       "      <th>cystoscopy</th>\n",
       "      <th>who1973</th>\n",
       "      <th>second</th>\n",
       "      <th>...</th>\n",
       "      <th>cis</th>\n",
       "      <th>second11</th>\n",
       "      <th>deep</th>\n",
       "      <th>second12</th>\n",
       "      <th>last</th>\n",
       "      <th>recurrence</th>\n",
       "      <th>progressio</th>\n",
       "      <th>intravesic</th>\n",
       "      <th>bcg</th>\n",
       "      <th>radical</th>\n",
       "    </tr>\n",
       "  </thead>\n",
       "  <tbody>\n",
       "    <tr>\n",
       "      <th>0</th>\n",
       "      <td>1</td>\n",
       "      <td>Amir Tamang</td>\n",
       "      <td>39</td>\n",
       "      <td>0</td>\n",
       "      <td>910385h</td>\n",
       "      <td>2247</td>\n",
       "      <td>17-01-2020</td>\n",
       "      <td>05-01-2021</td>\n",
       "      <td>2</td>\n",
       "      <td>1</td>\n",
       "      <td>...</td>\n",
       "      <td>0</td>\n",
       "      <td>0</td>\n",
       "      <td>1</td>\n",
       "      <td>1</td>\n",
       "      <td>05-01-2021</td>\n",
       "      <td>NaN</td>\n",
       "      <td>NaN</td>\n",
       "      <td>0</td>\n",
       "      <td>0</td>\n",
       "      <td>0</td>\n",
       "    </tr>\n",
       "    <tr>\n",
       "      <th>1</th>\n",
       "      <td>2</td>\n",
       "      <td>Indrani Mandal</td>\n",
       "      <td>62</td>\n",
       "      <td>1</td>\n",
       "      <td>950304h</td>\n",
       "      <td>39595</td>\n",
       "      <td>11-10-2018</td>\n",
       "      <td>31-12-2020</td>\n",
       "      <td>2</td>\n",
       "      <td>2</td>\n",
       "      <td>...</td>\n",
       "      <td>0</td>\n",
       "      <td>0</td>\n",
       "      <td>1</td>\n",
       "      <td>1</td>\n",
       "      <td>31-12-2020</td>\n",
       "      <td>NaN</td>\n",
       "      <td>NaN</td>\n",
       "      <td>1</td>\n",
       "      <td>0</td>\n",
       "      <td>0</td>\n",
       "    </tr>\n",
       "    <tr>\n",
       "      <th>2</th>\n",
       "      <td>3</td>\n",
       "      <td>Sutharan</td>\n",
       "      <td>70</td>\n",
       "      <td>0</td>\n",
       "      <td>102919h</td>\n",
       "      <td>2375</td>\n",
       "      <td>19-01-2018</td>\n",
       "      <td>12-08-2019</td>\n",
       "      <td>2</td>\n",
       "      <td>2</td>\n",
       "      <td>...</td>\n",
       "      <td>0</td>\n",
       "      <td>0</td>\n",
       "      <td>1</td>\n",
       "      <td>1</td>\n",
       "      <td>12-08-2019</td>\n",
       "      <td>NaN</td>\n",
       "      <td>NaN</td>\n",
       "      <td>1</td>\n",
       "      <td>0</td>\n",
       "      <td>0</td>\n",
       "    </tr>\n",
       "    <tr>\n",
       "      <th>3</th>\n",
       "      <td>4</td>\n",
       "      <td>Ali bose</td>\n",
       "      <td>48</td>\n",
       "      <td>1</td>\n",
       "      <td>112244h</td>\n",
       "      <td>2708</td>\n",
       "      <td>23-01-2018</td>\n",
       "      <td>18-02-2019</td>\n",
       "      <td>3</td>\n",
       "      <td>3</td>\n",
       "      <td>...</td>\n",
       "      <td>0</td>\n",
       "      <td>0</td>\n",
       "      <td>1</td>\n",
       "      <td>0</td>\n",
       "      <td>18-02-2019</td>\n",
       "      <td>27-02-2019</td>\n",
       "      <td>27-02-2019</td>\n",
       "      <td>0</td>\n",
       "      <td>0</td>\n",
       "      <td>1</td>\n",
       "    </tr>\n",
       "    <tr>\n",
       "      <th>4</th>\n",
       "      <td>5</td>\n",
       "      <td>Maheshwari</td>\n",
       "      <td>56</td>\n",
       "      <td>1</td>\n",
       "      <td>456540F</td>\n",
       "      <td>3456</td>\n",
       "      <td>29-01-2018</td>\n",
       "      <td>31-07-2018</td>\n",
       "      <td>2</td>\n",
       "      <td>1</td>\n",
       "      <td>...</td>\n",
       "      <td>0</td>\n",
       "      <td>0</td>\n",
       "      <td>0</td>\n",
       "      <td>0</td>\n",
       "      <td>31-07-2018</td>\n",
       "      <td>NaN</td>\n",
       "      <td>NaN</td>\n",
       "      <td>0</td>\n",
       "      <td>0</td>\n",
       "      <td>0</td>\n",
       "    </tr>\n",
       "  </tbody>\n",
       "</table>\n",
       "<p>5 rows × 40 columns</p>\n",
       "</div>"
      ],
      "text/plain": [
       "   patient            name  age  gender hospital  biopsy        date  \\\n",
       "0        1     Amir Tamang   39       0  910385h    2247  17-01-2020   \n",
       "1        2  Indrani Mandal   62       1  950304h   39595  11-10-2018   \n",
       "2        3        Sutharan   70       0  102919h    2375  19-01-2018   \n",
       "3        4        Ali bose   48       1  112244h    2708  23-01-2018   \n",
       "4        5      Maheshwari   56       1  456540F    3456  29-01-2018   \n",
       "\n",
       "   cystoscopy  who1973  second  ...  cis  second11  deep  second12  \\\n",
       "0  05-01-2021        2       1  ...    0         0     1         1   \n",
       "1  31-12-2020        2       2  ...    0         0     1         1   \n",
       "2  12-08-2019        2       2  ...    0         0     1         1   \n",
       "3  18-02-2019        3       3  ...    0         0     1         0   \n",
       "4  31-07-2018        2       1  ...    0         0     0         0   \n",
       "\n",
       "         last  recurrence  progressio  intravesic  bcg  radical  \n",
       "0  05-01-2021         NaN         NaN           0    0        0  \n",
       "1  31-12-2020         NaN         NaN           1    0        0  \n",
       "2  12-08-2019         NaN         NaN           1    0        0  \n",
       "3  18-02-2019  27-02-2019  27-02-2019           0    0        1  \n",
       "4  31-07-2018         NaN         NaN           0    0        0  \n",
       "\n",
       "[5 rows x 40 columns]"
      ]
     },
     "execution_count": 3,
     "metadata": {},
     "output_type": "execute_result"
    }
   ],
   "source": [
    "raw_df = pd.read_csv(\"./working.csv\")\n",
    "raw_df.set_index(\"patient\")\n",
    "raw_df.head()"
   ]
  },
  {
   "cell_type": "code",
   "execution_count": 4,
   "id": "7cafe3b0-b813-416c-a237-2cc723655789",
   "metadata": {},
   "outputs": [
    {
     "data": {
      "text/plain": [
       "array(['patient', 'name', 'age', 'gender', 'hospital', 'biopsy', 'date',\n",
       "       'cystoscopy', 'who1973', 'second', 'who2004', 'second1', 'g3',\n",
       "       'second2', 'hg', 'second3', 'lamina', 'second4', 'muscularis',\n",
       "       'second5', 'vascular', 'second6', 'necrosis', 'second7',\n",
       "       'lymphovasc', 'second8', 'variant', 'second9', 'percentage',\n",
       "       'second10', 'cis', 'second11', 'deep', 'second12', 'last',\n",
       "       'recurrence', 'progressio', 'intravesic', 'bcg', 'radical'],\n",
       "      dtype=object)"
      ]
     },
     "execution_count": 4,
     "metadata": {},
     "output_type": "execute_result"
    }
   ],
   "source": [
    "raw_df.columns.values"
   ]
  },
  {
   "cell_type": "code",
   "execution_count": 5,
   "id": "6a7d7d9e-6d9f-46f8-a761-24e5cb861cfb",
   "metadata": {},
   "outputs": [
    {
     "data": {
      "text/plain": [
       "(160, 40)"
      ]
     },
     "execution_count": 5,
     "metadata": {},
     "output_type": "execute_result"
    }
   ],
   "source": [
    "raw_df.shape"
   ]
  },
  {
   "cell_type": "code",
   "execution_count": 6,
   "id": "df77126b-a95f-4ae8-81dc-1b3f7c7f84e4",
   "metadata": {},
   "outputs": [],
   "source": [
    "binary_labels = {\n",
    "    0: \"Absent\",\n",
    "    1: \"Present\"\n",
    "}\n",
    "\n",
    "who2004_labels = {\n",
    "    1: \"LG\",\n",
    "    2: \"HG\"\n",
    "}\n",
    "\n",
    "who73_labels = {\n",
    "    1: \"G1\",\n",
    "    2: \"G2\",\n",
    "    3: \"G3\"\n",
    "}\n",
    "\n",
    "combined_labels = {\n",
    "    1: \"LG/G1\",\n",
    "    2: \"LG/G2\",\n",
    "    3: \"HG/G2\",\n",
    "    4: \"HG/G3\"\n",
    "}\n",
    "\n",
    "pt1_labels = {\n",
    "    1: \"pT1a\",\n",
    "    2: \"pT1b\"\n",
    "}"
   ]
  },
  {
   "cell_type": "markdown",
   "id": "f32f945f-1eed-4155-8648-5263dd9ccb70",
   "metadata": {},
   "source": [
    "# Single variable descriptive statistics"
   ]
  },
  {
   "cell_type": "markdown",
   "id": "2c993868-12c7-4947-801d-8c922d3046e9",
   "metadata": {
    "jp-MarkdownHeadingCollapsed": true
   },
   "source": [
    "## Age"
   ]
  },
  {
   "cell_type": "code",
   "execution_count": 7,
   "id": "c8f8f81e-9f9a-4149-8469-2551f1a9eb25",
   "metadata": {},
   "outputs": [
    {
     "name": "stdout",
     "output_type": "stream",
     "text": [
      "**Age**\n",
      "Mean ± SD: 56.0 ± 12.5\n",
      "Mean ± 2SD: 56.0 ± 25.0\n",
      "Median [IQR]: 57.5 [48.0, 65.0]\n",
      "Range: 22.0 to 89.0\n"
     ]
    }
   ],
   "source": [
    "describe_continuous(raw_df[\"age\"], \"Age\", 1)"
   ]
  },
  {
   "cell_type": "code",
   "execution_count": 8,
   "id": "87f71b1a-05a0-40d9-981b-4b857a084e57",
   "metadata": {},
   "outputs": [
    {
     "data": {
      "text/plain": [
       "<Axes: ylabel='Frequency'>"
      ]
     },
     "execution_count": 8,
     "metadata": {},
     "output_type": "execute_result"
    },
    {
     "data": {
      "image/png": "[encoded data removed]",
      "text/plain": [
       "<Figure size 640x480 with 1 Axes>"
      ]
     },
     "metadata": {},
     "output_type": "display_data"
    }
   ],
   "source": [
    "raw_df[\"age\"].plot.hist(bins=8)"
   ]
  },
  {
   "cell_type": "markdown",
   "id": "a03e62be-9683-47db-9d61-228097c1f111",
   "metadata": {
    "jp-MarkdownHeadingCollapsed": true
   },
   "source": [
    "## Gender"
   ]
  },
  {
   "cell_type": "code",
   "execution_count": 9,
   "id": "685eab8f-b635-4dd9-9d9f-6f37ae402a6c",
   "metadata": {},
   "outputs": [
    {
     "data": {
      "text/plain": [
       "np.int64(0)"
      ]
     },
     "execution_count": 9,
     "metadata": {},
     "output_type": "execute_result"
    }
   ],
   "source": [
    "raw_df[\"gender\"].isna().sum()"
   ]
  },
  {
   "cell_type": "code",
   "execution_count": 10,
   "id": "017c8826-c5e1-4637-8909-c5686dd1a20d",
   "metadata": {},
   "outputs": [
    {
     "data": {
      "text/plain": [
       "CategoricalDtype(categories=[0, 1], ordered=False, categories_dtype=int64)"
      ]
     },
     "execution_count": 10,
     "metadata": {},
     "output_type": "execute_result"
    }
   ],
   "source": [
    "raw_df[\"gender\"] = pd.Categorical(raw_df[\"gender\"])\n",
    "raw_df[\"gender\"].dtype"
   ]
  },
  {
   "cell_type": "code",
   "execution_count": 11,
   "id": "5e225d22-bcf9-45c4-a61d-959ee2a41862",
   "metadata": {},
   "outputs": [
    {
     "data": {
      "text/html": [
       "<div>\n",
       "<style scoped>\n",
       "    .dataframe tbody tr th:only-of-type {\n",
       "        vertical-align: middle;\n",
       "    }\n",
       "\n",
       "    .dataframe tbody tr th {\n",
       "        vertical-align: top;\n",
       "    }\n",
       "\n",
       "    .dataframe thead th {\n",
       "        text-align: right;\n",
       "    }\n",
       "</style>\n",
       "<table border=\"1\" class=\"dataframe\">\n",
       "  <thead>\n",
       "    <tr style=\"text-align: right;\">\n",
       "      <th></th>\n",
       "      <th>n</th>\n",
       "      <th>%</th>\n",
       "    </tr>\n",
       "  </thead>\n",
       "  <tbody>\n",
       "    <tr>\n",
       "      <th>Male</th>\n",
       "      <td>137</td>\n",
       "      <td>85.6</td>\n",
       "    </tr>\n",
       "    <tr>\n",
       "      <th>Female</th>\n",
       "      <td>23</td>\n",
       "      <td>14.4</td>\n",
       "    </tr>\n",
       "  </tbody>\n",
       "</table>\n",
       "</div>"
      ],
      "text/plain": [
       "          n     %\n",
       "Male    137  85.6\n",
       "Female   23  14.4"
      ]
     },
     "execution_count": 11,
     "metadata": {},
     "output_type": "execute_result"
    }
   ],
   "source": [
    "gender_labels = {\n",
    "    0: \"Male\",\n",
    "    1: \"Female\"\n",
    "}\n",
    "describe_categorical(raw_df[\"gender\"], gender_labels)"
   ]
  },
  {
   "cell_type": "markdown",
   "id": "68249fd7-613f-4a69-ab8e-144f5ae9aa0e",
   "metadata": {
    "jp-MarkdownHeadingCollapsed": true
   },
   "source": [
    "## Biopsy date"
   ]
  },
  {
   "cell_type": "code",
   "execution_count": 12,
   "id": "dcf6d087-8a41-4618-a94e-18ec59574898",
   "metadata": {},
   "outputs": [],
   "source": [
    "raw_df[\"biopsy_date\"] = pd.to_datetime(raw_df[\"date\"], dayfirst=True)"
   ]
  },
  {
   "cell_type": "code",
   "execution_count": 13,
   "id": "52f30d94-7197-4a14-a979-a5383099482b",
   "metadata": {},
   "outputs": [
    {
     "data": {
      "text/plain": [
       "0     2020-01-17\n",
       "1     2018-10-11\n",
       "2     2018-01-19\n",
       "3     2018-01-23\n",
       "4     2018-01-29\n",
       "         ...    \n",
       "155   2019-04-04\n",
       "156   2020-03-16\n",
       "157   2017-05-30\n",
       "158   2020-11-09\n",
       "159   2017-12-15\n",
       "Name: biopsy_date, Length: 160, dtype: datetime64[ns]"
      ]
     },
     "execution_count": 13,
     "metadata": {},
     "output_type": "execute_result"
    }
   ],
   "source": [
    "raw_df[\"biopsy_date\"]"
   ]
  },
  {
   "cell_type": "code",
   "execution_count": 14,
   "id": "aa50143f-e050-47a9-b29c-6ece797523df",
   "metadata": {},
   "outputs": [
    {
     "data": {
      "text/plain": [
       "count                    160\n",
       "mean     2018-11-27 19:30:00\n",
       "min      2017-01-04 00:00:00\n",
       "25%      2017-12-30 12:00:00\n",
       "50%      2018-11-18 12:00:00\n",
       "75%      2019-08-15 06:00:00\n",
       "max      2024-07-01 00:00:00\n",
       "Name: biopsy_date, dtype: object"
      ]
     },
     "execution_count": 14,
     "metadata": {},
     "output_type": "execute_result"
    }
   ],
   "source": [
    "raw_df[\"biopsy_date\"].describe()"
   ]
  },
  {
   "cell_type": "markdown",
   "id": "e52f69ae-d42d-4b4e-9362-beac58bdecbb",
   "metadata": {},
   "source": [
    "### ANOMALY"
   ]
  },
  {
   "cell_type": "code",
   "execution_count": 15,
   "id": "d33f146b-b261-4f2b-8a9d-d075de177c01",
   "metadata": {},
   "outputs": [
    {
     "data": {
      "text/html": [
       "<div>\n",
       "<style scoped>\n",
       "    .dataframe tbody tr th:only-of-type {\n",
       "        vertical-align: middle;\n",
       "    }\n",
       "\n",
       "    .dataframe tbody tr th {\n",
       "        vertical-align: top;\n",
       "    }\n",
       "\n",
       "    .dataframe thead th {\n",
       "        text-align: right;\n",
       "    }\n",
       "</style>\n",
       "<table border=\"1\" class=\"dataframe\">\n",
       "  <thead>\n",
       "    <tr style=\"text-align: right;\">\n",
       "      <th></th>\n",
       "      <th>patient</th>\n",
       "      <th>name</th>\n",
       "      <th>age</th>\n",
       "      <th>gender</th>\n",
       "      <th>hospital</th>\n",
       "      <th>biopsy</th>\n",
       "      <th>date</th>\n",
       "      <th>cystoscopy</th>\n",
       "      <th>who1973</th>\n",
       "      <th>second</th>\n",
       "      <th>...</th>\n",
       "      <th>second11</th>\n",
       "      <th>deep</th>\n",
       "      <th>second12</th>\n",
       "      <th>last</th>\n",
       "      <th>recurrence</th>\n",
       "      <th>progressio</th>\n",
       "      <th>intravesic</th>\n",
       "      <th>bcg</th>\n",
       "      <th>radical</th>\n",
       "      <th>biopsy_date</th>\n",
       "    </tr>\n",
       "  </thead>\n",
       "  <tbody>\n",
       "    <tr>\n",
       "      <th>101</th>\n",
       "      <td>102</td>\n",
       "      <td>Hriday Ranjan Das</td>\n",
       "      <td>51</td>\n",
       "      <td>0</td>\n",
       "      <td>801850g</td>\n",
       "      <td>15022</td>\n",
       "      <td>01-07-2024</td>\n",
       "      <td>10-01-2023</td>\n",
       "      <td>2</td>\n",
       "      <td>2</td>\n",
       "      <td>...</td>\n",
       "      <td>0</td>\n",
       "      <td>0</td>\n",
       "      <td>0</td>\n",
       "      <td>10-01-2023</td>\n",
       "      <td>07-01-2019</td>\n",
       "      <td>NaN</td>\n",
       "      <td>0</td>\n",
       "      <td>0</td>\n",
       "      <td>0</td>\n",
       "      <td>2024-07-01</td>\n",
       "    </tr>\n",
       "  </tbody>\n",
       "</table>\n",
       "<p>1 rows × 41 columns</p>\n",
       "</div>"
      ],
      "text/plain": [
       "     patient               name  age gender hospital  biopsy        date  \\\n",
       "101      102  Hriday Ranjan Das   51      0  801850g   15022  01-07-2024   \n",
       "\n",
       "     cystoscopy  who1973  second  ...  second11  deep  second12        last  \\\n",
       "101  10-01-2023        2       2  ...         0     0         0  10-01-2023   \n",
       "\n",
       "     recurrence  progressio  intravesic  bcg  radical  biopsy_date  \n",
       "101  07-01-2019         NaN           0    0        0   2024-07-01  \n",
       "\n",
       "[1 rows x 41 columns]"
      ]
     },
     "execution_count": 15,
     "metadata": {},
     "output_type": "execute_result"
    }
   ],
   "source": [
    "raw_df[raw_df[\"biopsy_date\"] > \"2021-01-01\"]"
   ]
  },
  {
   "cell_type": "markdown",
   "id": "8de4a5ae-a086-4999-8b00-d5617642b418",
   "metadata": {},
   "source": [
    "## Cystoscopy ??"
   ]
  },
  {
   "cell_type": "markdown",
   "id": "eb6b45b6-3cf6-4486-a578-741a8481e599",
   "metadata": {},
   "source": [
    "## WHO 1973 Grade"
   ]
  },
  {
   "cell_type": "code",
   "execution_count": 16,
   "id": "18f43ddf-5c8e-4462-bc5b-c901726e40a3",
   "metadata": {},
   "outputs": [
    {
     "data": {
      "text/plain": [
       "who1973\n",
       "2    124\n",
       "3     28\n",
       "1      8\n",
       "Name: count, dtype: int64"
      ]
     },
     "execution_count": 16,
     "metadata": {},
     "output_type": "execute_result"
    }
   ],
   "source": [
    "raw_df[\"who1973\"] = pd.Categorical(raw_df[\"who1973\"])\n",
    "raw_df[\"who1973\"].value_counts()"
   ]
  },
  {
   "cell_type": "code",
   "execution_count": 17,
   "id": "66febd17-f617-41cb-a77e-a1f05f71d727",
   "metadata": {},
   "outputs": [
    {
     "data": {
      "text/html": [
       "<div>\n",
       "<style scoped>\n",
       "    .dataframe tbody tr th:only-of-type {\n",
       "        vertical-align: middle;\n",
       "    }\n",
       "\n",
       "    .dataframe tbody tr th {\n",
       "        vertical-align: top;\n",
       "    }\n",
       "\n",
       "    .dataframe thead th {\n",
       "        text-align: right;\n",
       "    }\n",
       "</style>\n",
       "<table border=\"1\" class=\"dataframe\">\n",
       "  <thead>\n",
       "    <tr style=\"text-align: right;\">\n",
       "      <th></th>\n",
       "      <th>n</th>\n",
       "      <th>%</th>\n",
       "    </tr>\n",
       "  </thead>\n",
       "  <tbody>\n",
       "    <tr>\n",
       "      <th>G1</th>\n",
       "      <td>8</td>\n",
       "      <td>5.0</td>\n",
       "    </tr>\n",
       "    <tr>\n",
       "      <th>G2</th>\n",
       "      <td>124</td>\n",
       "      <td>77.5</td>\n",
       "    </tr>\n",
       "    <tr>\n",
       "      <th>G3</th>\n",
       "      <td>28</td>\n",
       "      <td>17.5</td>\n",
       "    </tr>\n",
       "  </tbody>\n",
       "</table>\n",
       "</div>"
      ],
      "text/plain": [
       "      n     %\n",
       "G1    8   5.0\n",
       "G2  124  77.5\n",
       "G3   28  17.5"
      ]
     },
     "execution_count": 17,
     "metadata": {},
     "output_type": "execute_result"
    }
   ],
   "source": [
    "describe_categorical(raw_df[\"who1973\"], who73_labels)"
   ]
  },
  {
   "cell_type": "code",
   "execution_count": 18,
   "id": "cd2fc89e-b940-4fac-a82d-95ff67290048",
   "metadata": {},
   "outputs": [
    {
     "data": {
      "text/plain": [
       "<Axes: xlabel='who1973', ylabel='count'>"
      ]
     },
     "execution_count": 18,
     "metadata": {},
     "output_type": "execute_result"
    },
    {
     "data": {
      "image/png": "[encoded data removed]",
      "text/plain": [
       "<Figure size 640x480 with 1 Axes>"
      ]
     },
     "metadata": {},
     "output_type": "display_data"
    }
   ],
   "source": [
    "sns.countplot(data=raw_df, x=\"who1973\")"
   ]
  },
  {
   "cell_type": "markdown",
   "id": "77b826eb-5eb1-4a9e-a7b6-71331e2b6636",
   "metadata": {},
   "source": [
    "## WHO 2004 Grade"
   ]
  },
  {
   "cell_type": "code",
   "execution_count": 19,
   "id": "52ba16ad-14b7-4695-bc34-d97bbbf18444",
   "metadata": {},
   "outputs": [
    {
     "data": {
      "text/plain": [
       "who2004\n",
       "1    88\n",
       "2    72\n",
       "Name: count, dtype: int64"
      ]
     },
     "execution_count": 19,
     "metadata": {},
     "output_type": "execute_result"
    }
   ],
   "source": [
    "raw_df[\"who2004\"] = pd.Categorical(raw_df[\"who2004\"])\n",
    "raw_df[\"who2004\"].value_counts()"
   ]
  },
  {
   "cell_type": "code",
   "execution_count": 20,
   "id": "e6fa35c0-6326-4a9f-ba94-1830388a6838",
   "metadata": {},
   "outputs": [
    {
     "data": {
      "text/html": [
       "<div>\n",
       "<style scoped>\n",
       "    .dataframe tbody tr th:only-of-type {\n",
       "        vertical-align: middle;\n",
       "    }\n",
       "\n",
       "    .dataframe tbody tr th {\n",
       "        vertical-align: top;\n",
       "    }\n",
       "\n",
       "    .dataframe thead th {\n",
       "        text-align: right;\n",
       "    }\n",
       "</style>\n",
       "<table border=\"1\" class=\"dataframe\">\n",
       "  <thead>\n",
       "    <tr style=\"text-align: right;\">\n",
       "      <th></th>\n",
       "      <th>n</th>\n",
       "      <th>%</th>\n",
       "    </tr>\n",
       "  </thead>\n",
       "  <tbody>\n",
       "    <tr>\n",
       "      <th>LG</th>\n",
       "      <td>88</td>\n",
       "      <td>55.0</td>\n",
       "    </tr>\n",
       "    <tr>\n",
       "      <th>HG</th>\n",
       "      <td>72</td>\n",
       "      <td>45.0</td>\n",
       "    </tr>\n",
       "  </tbody>\n",
       "</table>\n",
       "</div>"
      ],
      "text/plain": [
       "     n     %\n",
       "LG  88  55.0\n",
       "HG  72  45.0"
      ]
     },
     "execution_count": 20,
     "metadata": {},
     "output_type": "execute_result"
    }
   ],
   "source": [
    "describe_categorical(raw_df[\"who2004\"], who2004_labels)"
   ]
  },
  {
   "cell_type": "markdown",
   "id": "05b2abfd-aff5-4b9b-9878-d1ab1733688d",
   "metadata": {},
   "source": [
    "## Combined grade"
   ]
  },
  {
   "cell_type": "code",
   "execution_count": 21,
   "id": "b9ac1161-d050-4ec0-814e-c9d879347e22",
   "metadata": {},
   "outputs": [],
   "source": [
    "def combined_grade(grade73, grade04):\n",
    "    # 73 :=> 1 - g1, 2 - g2, 3 - g3\n",
    "    # 04 :=> 1 - lg, 2 - hg\n",
    "    # combined :=> 1 - lg/g1, 2 - lg/g2, 3 - hg/g2, 4 - hg/g3\n",
    "    match (grade73, grade04):\n",
    "        case (1, 1):\n",
    "            return 1\n",
    "        case (2, 1):\n",
    "            return 2\n",
    "        case (2, 2):\n",
    "            return 3\n",
    "        case (3, 2):\n",
    "            return 4\n",
    "        case _:\n",
    "            raise Exception(\"Invalid combination\")\n",
    "        "
   ]
  },
  {
   "cell_type": "code",
   "execution_count": 22,
   "id": "ef6955f2-8f5f-4b55-b9c1-80897a0167a3",
   "metadata": {},
   "outputs": [],
   "source": [
    "raw_df[\"combined\"] = raw_df[[\"who1973\", \"who2004\"]].apply(lambda x: combined_grade(x.who1973, x.who2004), axis=1)\n",
    "raw_df[\"combined\"] = pd.Categorical(raw_df[\"combined\"])"
   ]
  },
  {
   "cell_type": "code",
   "execution_count": 23,
   "id": "f23b0c8b-ed3e-47f5-a9c8-a2271fe91722",
   "metadata": {},
   "outputs": [
    {
     "data": {
      "text/html": [
       "<div>\n",
       "<style scoped>\n",
       "    .dataframe tbody tr th:only-of-type {\n",
       "        vertical-align: middle;\n",
       "    }\n",
       "\n",
       "    .dataframe tbody tr th {\n",
       "        vertical-align: top;\n",
       "    }\n",
       "\n",
       "    .dataframe thead th {\n",
       "        text-align: right;\n",
       "    }\n",
       "</style>\n",
       "<table border=\"1\" class=\"dataframe\">\n",
       "  <thead>\n",
       "    <tr style=\"text-align: right;\">\n",
       "      <th></th>\n",
       "      <th>n</th>\n",
       "      <th>%</th>\n",
       "    </tr>\n",
       "  </thead>\n",
       "  <tbody>\n",
       "    <tr>\n",
       "      <th>LG/G1</th>\n",
       "      <td>8</td>\n",
       "      <td>5.0</td>\n",
       "    </tr>\n",
       "    <tr>\n",
       "      <th>LG/G2</th>\n",
       "      <td>80</td>\n",
       "      <td>50.0</td>\n",
       "    </tr>\n",
       "    <tr>\n",
       "      <th>HG/G2</th>\n",
       "      <td>44</td>\n",
       "      <td>27.5</td>\n",
       "    </tr>\n",
       "    <tr>\n",
       "      <th>HG/G3</th>\n",
       "      <td>28</td>\n",
       "      <td>17.5</td>\n",
       "    </tr>\n",
       "  </tbody>\n",
       "</table>\n",
       "</div>"
      ],
      "text/plain": [
       "        n     %\n",
       "LG/G1   8   5.0\n",
       "LG/G2  80  50.0\n",
       "HG/G2  44  27.5\n",
       "HG/G3  28  17.5"
      ]
     },
     "execution_count": 23,
     "metadata": {},
     "output_type": "execute_result"
    }
   ],
   "source": [
    "describe_categorical(raw_df[\"combined\"], combined_labels)"
   ]
  },
  {
   "cell_type": "code",
   "execution_count": 24,
   "id": "3c762cec-b456-44c0-942a-55a983d8381d",
   "metadata": {},
   "outputs": [
    {
     "data": {
      "image/png": "[encoded data removed]",
      "text/plain": [
       "<Figure size 640x480 with 1 Axes>"
      ]
     },
     "metadata": {},
     "output_type": "display_data"
    }
   ],
   "source": [
    "ax = sns.countplot(data=raw_df, x=\"combined\")\n",
    "ax.set_xticks([0, 1, 2, 3])\n",
    "ax.set_xticklabels([\"LG/G1\", \"LG/G2\", \"HG/G2\", \"HG/G3\"])\n",
    "plt.show()"
   ]
  },
  {
   "cell_type": "markdown",
   "id": "b3f3bf0a-293f-46b4-9f82-4c4065dde5cb",
   "metadata": {
    "jp-MarkdownHeadingCollapsed": true
   },
   "source": [
    "## Percentage G3"
   ]
  },
  {
   "cell_type": "code",
   "execution_count": 25,
   "id": "57ecd1e2-a803-4d33-8c8c-deb00ed0264a",
   "metadata": {},
   "outputs": [
    {
     "data": {
      "text/plain": [
       "<Axes: ylabel='Frequency'>"
      ]
     },
     "execution_count": 25,
     "metadata": {},
     "output_type": "execute_result"
    },
    {
     "data": {
      "image/png": "[encoded data removed]",
      "text/plain": [
       "<Figure size 640x480 with 1 Axes>"
      ]
     },
     "metadata": {},
     "output_type": "display_data"
    }
   ],
   "source": [
    "percentage_g3 = raw_df[raw_df[\"who1973\"] == 3][\"g3\"]\n",
    "percentage_g3.plot.hist(bins=8)"
   ]
  },
  {
   "cell_type": "code",
   "execution_count": 26,
   "id": "cd9c81a1-f0b3-4a5f-bf69-4fa4cf5c32b8",
   "metadata": {},
   "outputs": [
    {
     "data": {
      "text/plain": [
       "count    28.000000\n",
       "mean     39.285714\n",
       "std      24.141339\n",
       "min       5.000000\n",
       "25%      20.000000\n",
       "50%      30.000000\n",
       "75%      60.000000\n",
       "max      80.000000\n",
       "Name: g3, dtype: float64"
      ]
     },
     "execution_count": 26,
     "metadata": {},
     "output_type": "execute_result"
    }
   ],
   "source": [
    "percentage_g3.describe()"
   ]
  },
  {
   "cell_type": "code",
   "execution_count": 27,
   "id": "5940989c-6885-459c-99e1-2250c92ce98c",
   "metadata": {},
   "outputs": [
    {
     "name": "stdout",
     "output_type": "stream",
     "text": [
      "**Percentage G3**\n",
      "Mean ± SD: 39.29 ± 24.14\n",
      "Mean ± 2SD: 39.29 ± 48.28\n",
      "Median [IQR]: 30.0 [20.0, 60.0]\n",
      "Range: 5.0 to 80.0\n"
     ]
    }
   ],
   "source": [
    "describe_continuous(percentage_g3, \"Percentage G3\")"
   ]
  },
  {
   "cell_type": "markdown",
   "id": "5db70966-c8f7-46fa-9cfb-43d2fb719114",
   "metadata": {},
   "source": [
    "## Percentage HG"
   ]
  },
  {
   "cell_type": "code",
   "execution_count": 28,
   "id": "00e31d98-11b6-44a5-82b3-2fe824519117",
   "metadata": {},
   "outputs": [
    {
     "data": {
      "text/plain": [
       "<Axes: ylabel='Frequency'>"
      ]
     },
     "execution_count": 28,
     "metadata": {},
     "output_type": "execute_result"
    },
    {
     "data": {
      "image/png": "[encoded data removed]",
      "text/plain": [
       "<Figure size 640x480 with 1 Axes>"
      ]
     },
     "metadata": {},
     "output_type": "display_data"
    }
   ],
   "source": [
    "percentage_hg = raw_df[raw_df[\"who2004\"] == 2][\"hg\"]\n",
    "percentage_hg.plot.hist()"
   ]
  },
  {
   "cell_type": "code",
   "execution_count": 29,
   "id": "d68cdf85-2e30-4d73-b4d2-06152ca4a523",
   "metadata": {},
   "outputs": [
    {
     "data": {
      "text/plain": [
       "count     72.000000\n",
       "mean      95.138889\n",
       "std       19.572405\n",
       "min        0.000000\n",
       "25%      100.000000\n",
       "50%      100.000000\n",
       "75%      100.000000\n",
       "max      100.000000\n",
       "Name: hg, dtype: float64"
      ]
     },
     "execution_count": 29,
     "metadata": {},
     "output_type": "execute_result"
    }
   ],
   "source": [
    "percentage_hg.describe()"
   ]
  },
  {
   "cell_type": "code",
   "execution_count": 30,
   "id": "2d70fb8a-c7b5-4276-af59-c6e3507ddd3d",
   "metadata": {},
   "outputs": [
    {
     "name": "stdout",
     "output_type": "stream",
     "text": [
      "**Percentage High grade**\n",
      "Mean ± SD: 95.14 ± 19.57\n",
      "Mean ± 2SD: 95.14 ± 39.14\n",
      "Median [IQR]: 100.0 [100.0, 100.0]\n",
      "Range: 0.0 to 100.0\n"
     ]
    }
   ],
   "source": [
    "describe_continuous(percentage_hg, \"Percentage High grade\")"
   ]
  },
  {
   "cell_type": "markdown",
   "id": "1870ff22-54fe-4e0d-92d0-bfe79806a77d",
   "metadata": {},
   "source": [
    "## Lamina propria invasion"
   ]
  },
  {
   "cell_type": "code",
   "execution_count": 31,
   "id": "7aa3b957-76b7-4b20-aec7-c299dd9d825c",
   "metadata": {},
   "outputs": [
    {
     "data": {
      "text/plain": [
       "lamina\n",
       "0    112\n",
       "1     48\n",
       "Name: count, dtype: int64"
      ]
     },
     "execution_count": 31,
     "metadata": {},
     "output_type": "execute_result"
    }
   ],
   "source": [
    "raw_df[\"lamina\"] = pd.Categorical(raw_df[\"lamina\"])\n",
    "raw_df[\"lamina\"].value_counts()"
   ]
  },
  {
   "cell_type": "code",
   "execution_count": 32,
   "id": "1be056d4-8add-4d62-a803-2d2d5559a0e4",
   "metadata": {},
   "outputs": [
    {
     "data": {
      "text/html": [
       "<div>\n",
       "<style scoped>\n",
       "    .dataframe tbody tr th:only-of-type {\n",
       "        vertical-align: middle;\n",
       "    }\n",
       "\n",
       "    .dataframe tbody tr th {\n",
       "        vertical-align: top;\n",
       "    }\n",
       "\n",
       "    .dataframe thead th {\n",
       "        text-align: right;\n",
       "    }\n",
       "</style>\n",
       "<table border=\"1\" class=\"dataframe\">\n",
       "  <thead>\n",
       "    <tr style=\"text-align: right;\">\n",
       "      <th></th>\n",
       "      <th>n</th>\n",
       "      <th>%</th>\n",
       "    </tr>\n",
       "  </thead>\n",
       "  <tbody>\n",
       "    <tr>\n",
       "      <th>Absent</th>\n",
       "      <td>112</td>\n",
       "      <td>70.0</td>\n",
       "    </tr>\n",
       "    <tr>\n",
       "      <th>Present</th>\n",
       "      <td>48</td>\n",
       "      <td>30.0</td>\n",
       "    </tr>\n",
       "  </tbody>\n",
       "</table>\n",
       "</div>"
      ],
      "text/plain": [
       "           n     %\n",
       "Absent   112  70.0\n",
       "Present   48  30.0"
      ]
     },
     "execution_count": 32,
     "metadata": {},
     "output_type": "execute_result"
    }
   ],
   "source": [
    "describe_categorical(raw_df[\"lamina\"], binary_labels)"
   ]
  },
  {
   "cell_type": "markdown",
   "id": "e4b725ed-f3f5-42ba-9f7b-8c879cef7e28",
   "metadata": {},
   "source": [
    "## pT1 subclass"
   ]
  },
  {
   "cell_type": "code",
   "execution_count": 33,
   "id": "f7b4b4a3-41d2-4fc6-a296-10948c133cff",
   "metadata": {},
   "outputs": [
    {
     "data": {
      "text/plain": [
       "muscularis\n",
       "0    152\n",
       "1      8\n",
       "Name: count, dtype: int64"
      ]
     },
     "execution_count": 33,
     "metadata": {},
     "output_type": "execute_result"
    }
   ],
   "source": [
    "raw_df[\"muscularis\"].value_counts()"
   ]
  },
  {
   "cell_type": "code",
   "execution_count": 34,
   "id": "89c1b12d-0b88-4258-a83c-ab72d7616a23",
   "metadata": {},
   "outputs": [
    {
     "data": {
      "text/html": [
       "<div>\n",
       "<style scoped>\n",
       "    .dataframe tbody tr th:only-of-type {\n",
       "        vertical-align: middle;\n",
       "    }\n",
       "\n",
       "    .dataframe tbody tr th {\n",
       "        vertical-align: top;\n",
       "    }\n",
       "\n",
       "    .dataframe thead th {\n",
       "        text-align: right;\n",
       "    }\n",
       "</style>\n",
       "<table border=\"1\" class=\"dataframe\">\n",
       "  <thead>\n",
       "    <tr style=\"text-align: right;\">\n",
       "      <th>lamina</th>\n",
       "      <th>0</th>\n",
       "      <th>1</th>\n",
       "    </tr>\n",
       "    <tr>\n",
       "      <th>muscularis</th>\n",
       "      <th></th>\n",
       "      <th></th>\n",
       "    </tr>\n",
       "  </thead>\n",
       "  <tbody>\n",
       "    <tr>\n",
       "      <th>0</th>\n",
       "      <td>112</td>\n",
       "      <td>40</td>\n",
       "    </tr>\n",
       "    <tr>\n",
       "      <th>1</th>\n",
       "      <td>0</td>\n",
       "      <td>8</td>\n",
       "    </tr>\n",
       "  </tbody>\n",
       "</table>\n",
       "</div>"
      ],
      "text/plain": [
       "lamina        0   1\n",
       "muscularis         \n",
       "0           112  40\n",
       "1             0   8"
      ]
     },
     "execution_count": 34,
     "metadata": {},
     "output_type": "execute_result"
    }
   ],
   "source": [
    "pd.crosstab(raw_df[\"muscularis\"], raw_df[\"lamina\"])"
   ]
  },
  {
   "cell_type": "code",
   "execution_count": 35,
   "id": "d8ca4465-0dce-47e4-ba0e-8c1cf89193f2",
   "metadata": {},
   "outputs": [
    {
     "data": {
      "text/html": [
       "<div>\n",
       "<style scoped>\n",
       "    .dataframe tbody tr th:only-of-type {\n",
       "        vertical-align: middle;\n",
       "    }\n",
       "\n",
       "    .dataframe tbody tr th {\n",
       "        vertical-align: top;\n",
       "    }\n",
       "\n",
       "    .dataframe thead th {\n",
       "        text-align: right;\n",
       "    }\n",
       "</style>\n",
       "<table border=\"1\" class=\"dataframe\">\n",
       "  <thead>\n",
       "    <tr style=\"text-align: right;\">\n",
       "      <th>lamina</th>\n",
       "      <th>0</th>\n",
       "      <th>1</th>\n",
       "    </tr>\n",
       "    <tr>\n",
       "      <th>vascular</th>\n",
       "      <th></th>\n",
       "      <th></th>\n",
       "    </tr>\n",
       "  </thead>\n",
       "  <tbody>\n",
       "    <tr>\n",
       "      <th>0</th>\n",
       "      <td>112</td>\n",
       "      <td>35</td>\n",
       "    </tr>\n",
       "    <tr>\n",
       "      <th>1</th>\n",
       "      <td>0</td>\n",
       "      <td>13</td>\n",
       "    </tr>\n",
       "  </tbody>\n",
       "</table>\n",
       "</div>"
      ],
      "text/plain": [
       "lamina      0   1\n",
       "vascular         \n",
       "0         112  35\n",
       "1           0  13"
      ]
     },
     "execution_count": 35,
     "metadata": {},
     "output_type": "execute_result"
    }
   ],
   "source": [
    "pd.crosstab(raw_df[\"vascular\"], raw_df[\"lamina\"])"
   ]
  },
  {
   "cell_type": "code",
   "execution_count": 36,
   "id": "c0d85e6f-e193-4440-9f24-d4afddb25cca",
   "metadata": {},
   "outputs": [],
   "source": [
    "raw_df.loc[raw_df[\"muscularis\"] + raw_df[\"vascular\"] > 0, \"pt1_subclass\"] = np.int64(2)"
   ]
  },
  {
   "cell_type": "code",
   "execution_count": 38,
   "id": "7eb3a79b-2cbe-4194-a06e-1a7d2154e7d4",
   "metadata": {},
   "outputs": [],
   "source": [
    "raw_df.loc[(raw_df[\"lamina\"] == 1) & (raw_df[\"pt1_subclass\"] != 2), \"pt1_subclass\"] = np.int64(1)"
   ]
  },
  {
   "cell_type": "code",
   "execution_count": 39,
   "id": "9f7dd266-0a71-4745-b178-9450bb6c85fc",
   "metadata": {},
   "outputs": [],
   "source": [
    "raw_df[\"pt1_subclass\"] = pd.Categorical(raw_df[\"pt1_subclass\"])"
   ]
  },
  {
   "cell_type": "code",
   "execution_count": 42,
   "id": "4c8c3f30-83b3-4af9-b99c-a97899c8c570",
   "metadata": {},
   "outputs": [
    {
     "data": {
      "text/html": [
       "<div>\n",
       "<style scoped>\n",
       "    .dataframe tbody tr th:only-of-type {\n",
       "        vertical-align: middle;\n",
       "    }\n",
       "\n",
       "    .dataframe tbody tr th {\n",
       "        vertical-align: top;\n",
       "    }\n",
       "\n",
       "    .dataframe thead th {\n",
       "        text-align: right;\n",
       "    }\n",
       "</style>\n",
       "<table border=\"1\" class=\"dataframe\">\n",
       "  <thead>\n",
       "    <tr style=\"text-align: right;\">\n",
       "      <th></th>\n",
       "      <th>n</th>\n",
       "      <th>%</th>\n",
       "    </tr>\n",
       "  </thead>\n",
       "  <tbody>\n",
       "    <tr>\n",
       "      <th>pT1a</th>\n",
       "      <td>32</td>\n",
       "      <td>66.7</td>\n",
       "    </tr>\n",
       "    <tr>\n",
       "      <th>pT1b</th>\n",
       "      <td>16</td>\n",
       "      <td>33.3</td>\n",
       "    </tr>\n",
       "  </tbody>\n",
       "</table>\n",
       "</div>"
      ],
      "text/plain": [
       "       n     %\n",
       "pT1a  32  66.7\n",
       "pT1b  16  33.3"
      ]
     },
     "execution_count": 42,
     "metadata": {},
     "output_type": "execute_result"
    }
   ],
   "source": [
    "describe_categorical(raw_df[\"pt1_subclass\"], pt1_labels)"
   ]
  },
  {
   "cell_type": "markdown",
   "id": "59d16484-eacc-4078-bf30-e4a42f47b551",
   "metadata": {},
   "source": [
    "# More than 1 variable"
   ]
  },
  {
   "cell_type": "markdown",
   "id": "c6cef94a-60e2-4f8a-ab54-c457d28f3dd2",
   "metadata": {},
   "source": [
    "## 1973 vs 2004 grade"
   ]
  },
  {
   "cell_type": "code",
   "execution_count": null,
   "id": "677f8e79-02c5-4cc2-920e-cd33a8b9f2bb",
   "metadata": {},
   "outputs": [],
   "source": [
    "pd.crosstab(raw_df[\"who1973\"].apply(lambda x: who73_labels[x]), raw_df[\"who2004\"].apply(lambda x: who2004_labels[x]))"
   ]
  },
  {
   "cell_type": "code",
   "execution_count": null,
   "id": "fab0f784-9dc7-49eb-b065-7f210def625a",
   "metadata": {},
   "outputs": [],
   "source": [
    "chi_square(raw_df[\"who1973\"], raw_df[\"who2004\"])"
   ]
  },
  {
   "cell_type": "code",
   "execution_count": null,
   "id": "d773cb49-12a2-4319-b963-4b68a425ef82",
   "metadata": {},
   "outputs": [],
   "source": [
    "ax = sns.catplot(data=raw_df, x=\"who1973\", kind=\"count\", hue=\"who2004\", legend=False)\n",
    "ax.set_xticklabels([\"G1\", \"G2\", \"G3\"])\n",
    "plt.xlabel(\"WHO 1973 grade\")\n",
    "plt.ylabel(\"n\")\n",
    "plt.legend(title=\"WHO 2004 grade\", loc=\"upper right\", labels=[\"LG\", \"HG\"])\n",
    "plt.show(ax)"
   ]
  },
  {
   "cell_type": "markdown",
   "id": "0f578da6-992a-4484-baa3-d61cb9ef2bb2",
   "metadata": {},
   "source": [
    "## 1973 vs Lamina propria invasion"
   ]
  },
  {
   "cell_type": "code",
   "execution_count": null,
   "id": "8ebd7a2a-babb-4227-b088-e16063c013f1",
   "metadata": {},
   "outputs": [],
   "source": [
    "pd.crosstab(raw_df[\"who1973\"].apply(lambda x: who73_labels[x]), raw_df[\"lamina\"].apply(lambda x: binary_labels[x]))"
   ]
  },
  {
   "cell_type": "code",
   "execution_count": null,
   "id": "dfea593b-32a9-4ae7-ad84-e9aff7fc85ed",
   "metadata": {},
   "outputs": [],
   "source": [
    "chi_square(raw_df[\"who1973\"], raw_df[\"lamina\"])"
   ]
  },
  {
   "cell_type": "code",
   "execution_count": null,
   "id": "c6c23032-ca7f-4c2a-95d3-8942f371a16d",
   "metadata": {},
   "outputs": [],
   "source": [
    "ax = sns.catplot(data=raw_df, x=\"who1973\", kind=\"count\", hue=\"lamina\", legend=False)\n",
    "ax.set_xticklabels([\"G1\", \"G2\", \"G3\"])\n",
    "plt.xlabel(\"WHO 1973 grade\")\n",
    "plt.ylabel(\"n\")\n",
    "plt.legend(title=\"Lamina propria invasion\", loc=\"upper right\", labels=[\"Absent\", \"Present\"])\n",
    "plt.show(ax)"
   ]
  },
  {
   "cell_type": "markdown",
   "id": "70edd04d-c7be-4aa9-a7f9-ca92fdeb8f41",
   "metadata": {},
   "source": [
    "## 2004 vs Lamina propria invasion"
   ]
  },
  {
   "cell_type": "code",
   "execution_count": null,
   "id": "2c4907ee-0d0c-41dd-a2c5-dcf8e07c942a",
   "metadata": {},
   "outputs": [],
   "source": [
    "pd.crosstab(raw_df[\"who2004\"].apply(lambda x: who2004_labels[x]), raw_df[\"lamina\"].apply(lambda x: binary_labels[x]))"
   ]
  },
  {
   "cell_type": "code",
   "execution_count": null,
   "id": "42740cc1-57b4-4ab0-8c47-467c292315b9",
   "metadata": {},
   "outputs": [],
   "source": [
    "chi_square(raw_df[\"who2004\"], raw_df[\"lamina\"])"
   ]
  },
  {
   "cell_type": "code",
   "execution_count": null,
   "id": "7e0b94d0-3c2c-44fc-9286-417e0f82c821",
   "metadata": {},
   "outputs": [],
   "source": [
    "ax = sns.catplot(data=raw_df, x=\"who2004\", kind=\"count\", hue=\"lamina\", legend=False)\n",
    "ax.set_xticklabels([\"LG\", \"HG\"])\n",
    "plt.xlabel(\"WHO 2004 grade\")\n",
    "plt.ylabel(\"n\")\n",
    "plt.legend(title=\"Lamina propria invasion\", loc=\"upper right\", labels=[\"Absent\", \"Present\"])\n",
    "plt.show(ax)"
   ]
  },
  {
   "cell_type": "markdown",
   "id": "acf0accd-32a4-4fe1-a853-50cecad517cc",
   "metadata": {},
   "source": [
    "## Combined vs Lamina propria invasion"
   ]
  },
  {
   "cell_type": "code",
   "execution_count": null,
   "id": "95d03b4b-1688-4c40-b180-ac63c94844e4",
   "metadata": {},
   "outputs": [],
   "source": [
    "pd.crosstab(raw_df[\"combined\"].apply(lambda x: combined_labels[x]), raw_df[\"lamina\"].apply(lambda x: li_labels[x]))"
   ]
  },
  {
   "cell_type": "code",
   "execution_count": null,
   "id": "6655a216-a9d7-45d1-9d40-15baea56989d",
   "metadata": {},
   "outputs": [],
   "source": [
    "chi_square(raw_df[\"combined\"], raw_df[\"lamina\"])"
   ]
  },
  {
   "cell_type": "code",
   "execution_count": null,
   "id": "e2c455be-325d-4fde-a341-952f2e0fe36c",
   "metadata": {},
   "outputs": [],
   "source": [
    "ax = sns.catplot(data=raw_df, x=\"combined\", kind=\"count\", hue=\"lamina\", legend=False)\n",
    "ax.set_xticklabels([\"LG/G1\", \"LG/G2\", \"HG/G2\", \"HG/G3\"])\n",
    "plt.xlabel(\"Combined 1973 and 2004 Grade\")\n",
    "plt.ylabel(\"n\")\n",
    "plt.legend(title=\"Lamina propria invasion\", loc=\"upper right\", labels=[\"Absent\", \"Present\"])\n",
    "plt.show(ax)"
   ]
  },
  {
   "cell_type": "markdown",
   "id": "d6197652-bb58-455c-bd89-14bd55eb0981",
   "metadata": {},
   "source": [
    "### Note\n",
    "Can be written as a percentage of patients in each grade presenting with lamina propria invasion"
   ]
  },
  {
   "cell_type": "markdown",
   "id": "f85a1a39-0e1b-4930-826c-67e6f32bb4db",
   "metadata": {},
   "source": [
    "## pT1 subclass vs 1973 grade"
   ]
  },
  {
   "cell_type": "code",
   "execution_count": 45,
   "id": "41b43ff3-5c70-40ac-a9d9-6b17ab168950",
   "metadata": {},
   "outputs": [
    {
     "data": {
      "text/html": [
       "<div>\n",
       "<style scoped>\n",
       "    .dataframe tbody tr th:only-of-type {\n",
       "        vertical-align: middle;\n",
       "    }\n",
       "\n",
       "    .dataframe tbody tr th {\n",
       "        vertical-align: top;\n",
       "    }\n",
       "\n",
       "    .dataframe thead th {\n",
       "        text-align: right;\n",
       "    }\n",
       "</style>\n",
       "<table border=\"1\" class=\"dataframe\">\n",
       "  <thead>\n",
       "    <tr style=\"text-align: right;\">\n",
       "      <th>pt1_subclass</th>\n",
       "      <th>pT1a</th>\n",
       "      <th>pT1b</th>\n",
       "    </tr>\n",
       "    <tr>\n",
       "      <th>who1973</th>\n",
       "      <th></th>\n",
       "      <th></th>\n",
       "    </tr>\n",
       "  </thead>\n",
       "  <tbody>\n",
       "    <tr>\n",
       "      <th>G2</th>\n",
       "      <td>16</td>\n",
       "      <td>8</td>\n",
       "    </tr>\n",
       "    <tr>\n",
       "      <th>G3</th>\n",
       "      <td>16</td>\n",
       "      <td>8</td>\n",
       "    </tr>\n",
       "  </tbody>\n",
       "</table>\n",
       "</div>"
      ],
      "text/plain": [
       "pt1_subclass  pT1a  pT1b\n",
       "who1973                 \n",
       "G2              16     8\n",
       "G3              16     8"
      ]
     },
     "execution_count": 45,
     "metadata": {},
     "output_type": "execute_result"
    }
   ],
   "source": [
    "t1_df = raw_df[raw_df[\"lamina\"] == 1]\n",
    "pd.crosstab(t1_df[\"who1973\"].apply(lambda x: who73_labels[x]), t1_df[\"pt1_subclass\"].apply(lambda x: pt1_labels[x]))"
   ]
  },
  {
   "cell_type": "code",
   "execution_count": 47,
   "id": "e0ef0eda-ef32-4486-9690-856fdc4bc374",
   "metadata": {},
   "outputs": [
    {
     "data": {
      "text/plain": [
       "{'stat': 0.0, 'p': 1.0, 'cells_less_than_5': 0}"
      ]
     },
     "execution_count": 47,
     "metadata": {},
     "output_type": "execute_result"
    }
   ],
   "source": [
    "chi_square(t1_df[\"who1973\"], t1_df[\"pt1_subclass\"])"
   ]
  },
  {
   "cell_type": "code",
   "execution_count": 48,
   "id": "22a4cb2a-043f-4c16-b2c0-db31c6121b29",
   "metadata": {},
   "outputs": [
    {
     "data": {
      "image/png": "[encoded data removed]",
      "text/plain": [
       "<Figure size 500x500 with 1 Axes>"
      ]
     },
     "metadata": {},
     "output_type": "display_data"
    }
   ],
   "source": [
    "ax = sns.catplot(data=t1_df, x=\"pt1_subclass\", kind=\"count\", hue=\"who1973\", legend=False)\n",
    "ax.set_xticklabels([\"pT1a\", \"pT1b\"])\n",
    "plt.xlabel(\"pT1 subclass\")\n",
    "plt.ylabel(\"n\")\n",
    "plt.legend(title=\"WHO 1973 grade\", loc=\"upper right\", labels=[\"G1\", \"G2\", \"G3\"])\n",
    "plt.show(ax)"
   ]
  },
  {
   "cell_type": "markdown",
   "id": "f660999a-72e3-4218-9115-2a0b95bbc14d",
   "metadata": {},
   "source": [
    "## pT1 subclass vs 2004 grade"
   ]
  },
  {
   "cell_type": "code",
   "execution_count": 50,
   "id": "8b5090ce-a735-4bed-a2d1-9afed4e80307",
   "metadata": {},
   "outputs": [
    {
     "data": {
      "text/html": [
       "<div>\n",
       "<style scoped>\n",
       "    .dataframe tbody tr th:only-of-type {\n",
       "        vertical-align: middle;\n",
       "    }\n",
       "\n",
       "    .dataframe tbody tr th {\n",
       "        vertical-align: top;\n",
       "    }\n",
       "\n",
       "    .dataframe thead th {\n",
       "        text-align: right;\n",
       "    }\n",
       "</style>\n",
       "<table border=\"1\" class=\"dataframe\">\n",
       "  <thead>\n",
       "    <tr style=\"text-align: right;\">\n",
       "      <th>pt1_subclass</th>\n",
       "      <th>pT1a</th>\n",
       "      <th>pT1b</th>\n",
       "    </tr>\n",
       "    <tr>\n",
       "      <th>who2004</th>\n",
       "      <th></th>\n",
       "      <th></th>\n",
       "    </tr>\n",
       "  </thead>\n",
       "  <tbody>\n",
       "    <tr>\n",
       "      <th>LG</th>\n",
       "      <td>6</td>\n",
       "      <td>0</td>\n",
       "    </tr>\n",
       "    <tr>\n",
       "      <th>HG</th>\n",
       "      <td>26</td>\n",
       "      <td>16</td>\n",
       "    </tr>\n",
       "  </tbody>\n",
       "</table>\n",
       "</div>"
      ],
      "text/plain": [
       "pt1_subclass  pT1a  pT1b\n",
       "who2004                 \n",
       "LG               6     0\n",
       "HG              26    16"
      ]
     },
     "execution_count": 50,
     "metadata": {},
     "output_type": "execute_result"
    }
   ],
   "source": [
    "pd.crosstab(t1_df[\"who2004\"].apply(lambda x: who2004_labels[x]), t1_df[\"pt1_subclass\"].apply(lambda x: pt1_labels[x]))"
   ]
  },
  {
   "cell_type": "code",
   "execution_count": 51,
   "id": "497b92ff-a5e6-46b9-a086-9a9ca6d5be09",
   "metadata": {},
   "outputs": [
    {
     "data": {
      "text/plain": [
       "{'stat': 1.9286, 'p': 0.1649, 'cells_less_than_5': 2}"
      ]
     },
     "execution_count": 51,
     "metadata": {},
     "output_type": "execute_result"
    }
   ],
   "source": [
    "chi_square(t1_df[\"who2004\"], t1_df[\"pt1_subclass\"])"
   ]
  },
  {
   "cell_type": "code",
   "execution_count": 53,
   "id": "c593b7ff-ee59-41f7-8e19-c7b3617dd183",
   "metadata": {},
   "outputs": [
    {
     "data": {
      "image/png": "[encoded data removed]",
      "text/plain": [
       "<Figure size 500x500 with 1 Axes>"
      ]
     },
     "metadata": {},
     "output_type": "display_data"
    }
   ],
   "source": [
    "ax = sns.catplot(data=t1_df, x=\"pt1_subclass\", kind=\"count\", hue=\"who2004\", legend=False)\n",
    "ax.set_xticklabels([\"pT1a\", \"pT1b\"])\n",
    "plt.xlabel(\"pT1 subclass\")\n",
    "plt.ylabel(\"n\")\n",
    "plt.legend(title=\"WHO 2004 grade\", loc=\"upper right\", labels=[\"LG\", \"HG\"])\n",
    "plt.show(ax)"
   ]
  },
  {
   "cell_type": "markdown",
   "id": "e507a4e3-fa3a-437d-955f-5180a846389c",
   "metadata": {},
   "source": [
    "## pT1 subclass vs combined grade"
   ]
  },
  {
   "cell_type": "code",
   "execution_count": 54,
   "id": "7bb96c70-6475-495c-bc9a-5da4ea6e7733",
   "metadata": {},
   "outputs": [
    {
     "data": {
      "text/html": [
       "<div>\n",
       "<style scoped>\n",
       "    .dataframe tbody tr th:only-of-type {\n",
       "        vertical-align: middle;\n",
       "    }\n",
       "\n",
       "    .dataframe tbody tr th {\n",
       "        vertical-align: top;\n",
       "    }\n",
       "\n",
       "    .dataframe thead th {\n",
       "        text-align: right;\n",
       "    }\n",
       "</style>\n",
       "<table border=\"1\" class=\"dataframe\">\n",
       "  <thead>\n",
       "    <tr style=\"text-align: right;\">\n",
       "      <th>pt1_subclass</th>\n",
       "      <th>pT1a</th>\n",
       "      <th>pT1b</th>\n",
       "    </tr>\n",
       "    <tr>\n",
       "      <th>combined</th>\n",
       "      <th></th>\n",
       "      <th></th>\n",
       "    </tr>\n",
       "  </thead>\n",
       "  <tbody>\n",
       "    <tr>\n",
       "      <th>LG/G2</th>\n",
       "      <td>6</td>\n",
       "      <td>0</td>\n",
       "    </tr>\n",
       "    <tr>\n",
       "      <th>HG/G2</th>\n",
       "      <td>10</td>\n",
       "      <td>8</td>\n",
       "    </tr>\n",
       "    <tr>\n",
       "      <th>HG/G3</th>\n",
       "      <td>16</td>\n",
       "      <td>8</td>\n",
       "    </tr>\n",
       "  </tbody>\n",
       "</table>\n",
       "</div>"
      ],
      "text/plain": [
       "pt1_subclass  pT1a  pT1b\n",
       "combined                \n",
       "LG/G2            6     0\n",
       "HG/G2           10     8\n",
       "HG/G3           16     8"
      ]
     },
     "execution_count": 54,
     "metadata": {},
     "output_type": "execute_result"
    }
   ],
   "source": [
    "pd.crosstab(t1_df[\"combined\"].apply(lambda x: combined_labels[x]), t1_df[\"pt1_subclass\"].apply(lambda x: pt1_labels[x]))"
   ]
  },
  {
   "cell_type": "code",
   "execution_count": 55,
   "id": "fdca5be3-77b8-4532-8cb1-6ccb2e87f283",
   "metadata": {},
   "outputs": [
    {
     "data": {
      "text/plain": [
       "{'stat': 4.0, 'p': 0.1353, 'cells_less_than_5': 2}"
      ]
     },
     "execution_count": 55,
     "metadata": {},
     "output_type": "execute_result"
    }
   ],
   "source": [
    "chi_square(t1_df[\"combined\"], t1_df[\"pt1_subclass\"])"
   ]
  },
  {
   "cell_type": "code",
   "execution_count": 56,
   "id": "93e70d79-ab68-47ab-be32-704750106028",
   "metadata": {},
   "outputs": [
    {
     "data": {
      "image/png": "[encoded data removed]",
      "text/plain": [
       "<Figure size 500x500 with 1 Axes>"
      ]
     },
     "metadata": {},
     "output_type": "display_data"
    }
   ],
   "source": [
    "ax = sns.catplot(data=t1_df, x=\"pt1_subclass\", kind=\"count\", hue=\"combined\", legend=False)\n",
    "ax.set_xticklabels([\"pT1a\", \"pT1b\"])\n",
    "plt.xlabel(\"pT1 subclass\")\n",
    "plt.ylabel(\"n\")\n",
    "plt.legend(title=\"Combined 1973 and 2004 grades\", loc=\"upper right\", labels=[\"LG/G1\", \"LG/G2\", \"HG/G2\", \"HG/G3\"])\n",
    "plt.show(ax)"
   ]
  },
  {
   "cell_type": "code",
   "execution_count": null,
   "id": "3bf381fe-96b8-4419-a0eb-aad6b1596fad",
   "metadata": {},
   "outputs": [],
   "source": []
  }
 ],
 "metadata": {
  "kernelspec": {
   "display_name": "gt",
   "language": "python",
   "name": "gt"
  },
  "language_info": {
   "codemirror_mode": {
    "name": "ipython",
    "version": 3
   },
   "file_extension": ".py",
   "mimetype": "text/x-python",
   "name": "python",
   "nbconvert_exporter": "python",
   "pygments_lexer": "ipython3",
   "version": "3.12.0"
  }
 },
 "nbformat": 4,
 "nbformat_minor": 5
}
